{
 "cells": [
  {
   "cell_type": "code",
   "execution_count": 43,
   "metadata": {
    "ExecuteTime": {
     "end_time": "2020-12-03T05:18:56.758284Z",
     "start_time": "2020-12-03T05:18:56.689974Z"
    }
   },
   "outputs": [],
   "source": [
    "# Import libraries\n",
    "import pandas as pd\n",
    "import numpy as np\n",
    "import re\n",
    "import os\n",
    "import nltk\n",
    "from nltk.tokenize import word_tokenize\n",
    "from nltk.corpus import stopwords\n",
    "\n",
    "from sklearn.feature_extraction.text import TfidfVectorizer\n",
    "from sklearn.model_selection import train_test_split\n",
    "\n",
    "from io import StringIO\n",
    "from sklearn.linear_model import LogisticRegression\n",
    "from sklearn.ensemble import RandomForestClassifier\n",
    "from sklearn.multiclass import OneVsRestClassifier\n",
    "from sklearn.svm import LinearSVC\n",
    "from sklearn.metrics import classification_report\n",
    "from sklearn import metrics\n",
    "from sklearn.metrics import confusion_matrix\n",
    "\n",
    "import seaborn as sns\n",
    "sns.set_style(\"whitegrid\")\n",
    "%matplotlib inline\n",
    "\n",
    "import warnings\n",
    "warnings.filterwarnings('ignore')\n",
    "\n",
    "import fasttext\n",
    "import pickle\n",
    "\n",
    "import tensorflow as tf\n",
    "from keras.preprocessing.text import Tokenizer\n",
    "from keras.preprocessing.sequence import pad_sequences\n",
    "from keras.models import Sequential\n",
    "from keras.layers import Dense, Embedding, LSTM, SpatialDropout1D\n",
    "from sklearn.model_selection import train_test_split\n",
    "from keras.utils.np_utils import to_categorical\n",
    "from keras.callbacks import EarlyStopping\n",
    "from keras.layers import Dropout"
   ]
  },
  {
   "cell_type": "markdown",
   "metadata": {},
   "source": [
    "# Read data"
   ]
  },
  {
   "cell_type": "code",
   "execution_count": 2,
   "metadata": {
    "ExecuteTime": {
     "end_time": "2020-12-03T05:06:22.537159Z",
     "start_time": "2020-12-03T05:06:22.497499Z"
    }
   },
   "outputs": [],
   "source": [
    "# Read data\n",
    "train = pd.read_csv(\"train.txt\",delimiter=';',header=None,names=['sentence','label'])\n",
    "test = pd.read_csv(\"test.txt\",delimiter=';',header=None,names=['sentence','label'])"
   ]
  },
  {
   "cell_type": "code",
   "execution_count": 3,
   "metadata": {
    "ExecuteTime": {
     "end_time": "2020-12-03T05:06:22.562520Z",
     "start_time": "2020-12-03T05:06:22.539771Z"
    }
   },
   "outputs": [
    {
     "name": "stdout",
     "output_type": "stream",
     "text": [
      "(18000, 2)\n"
     ]
    },
    {
     "data": {
      "text/html": [
       "<div>\n",
       "<style scoped>\n",
       "    .dataframe tbody tr th:only-of-type {\n",
       "        vertical-align: middle;\n",
       "    }\n",
       "\n",
       "    .dataframe tbody tr th {\n",
       "        vertical-align: top;\n",
       "    }\n",
       "\n",
       "    .dataframe thead th {\n",
       "        text-align: right;\n",
       "    }\n",
       "</style>\n",
       "<table border=\"1\" class=\"dataframe\">\n",
       "  <thead>\n",
       "    <tr style=\"text-align: right;\">\n",
       "      <th></th>\n",
       "      <th>sentence</th>\n",
       "      <th>label</th>\n",
       "    </tr>\n",
       "  </thead>\n",
       "  <tbody>\n",
       "    <tr>\n",
       "      <th>0</th>\n",
       "      <td>i didnt feel humiliated</td>\n",
       "      <td>sadness</td>\n",
       "    </tr>\n",
       "    <tr>\n",
       "      <th>1</th>\n",
       "      <td>i can go from feeling so hopeless to so damned...</td>\n",
       "      <td>sadness</td>\n",
       "    </tr>\n",
       "    <tr>\n",
       "      <th>2</th>\n",
       "      <td>im grabbing a minute to post i feel greedy wrong</td>\n",
       "      <td>anger</td>\n",
       "    </tr>\n",
       "    <tr>\n",
       "      <th>3</th>\n",
       "      <td>i am ever feeling nostalgic about the fireplac...</td>\n",
       "      <td>love</td>\n",
       "    </tr>\n",
       "    <tr>\n",
       "      <th>4</th>\n",
       "      <td>i am feeling grouchy</td>\n",
       "      <td>anger</td>\n",
       "    </tr>\n",
       "  </tbody>\n",
       "</table>\n",
       "</div>"
      ],
      "text/plain": [
       "                                            sentence    label\n",
       "0                            i didnt feel humiliated  sadness\n",
       "1  i can go from feeling so hopeless to so damned...  sadness\n",
       "2   im grabbing a minute to post i feel greedy wrong    anger\n",
       "3  i am ever feeling nostalgic about the fireplac...     love\n",
       "4                               i am feeling grouchy    anger"
      ]
     },
     "execution_count": 3,
     "metadata": {},
     "output_type": "execute_result"
    }
   ],
   "source": [
    "df = pd.concat([train,test])\n",
    "print(df.shape)\n",
    "df.head()"
   ]
  },
  {
   "cell_type": "code",
   "execution_count": 4,
   "metadata": {
    "ExecuteTime": {
     "end_time": "2020-12-03T05:06:22.590417Z",
     "start_time": "2020-12-03T05:06:22.564610Z"
    }
   },
   "outputs": [
    {
     "name": "stdout",
     "output_type": "stream",
     "text": [
      "joy         6057\n",
      "sadness     5247\n",
      "anger       2434\n",
      "fear        2161\n",
      "love        1463\n",
      "surprise     638\n",
      "Name: label, dtype: int64\n",
      "\n",
      "\n",
      "joy         0.336500\n",
      "sadness     0.291500\n",
      "anger       0.135222\n",
      "fear        0.120056\n",
      "love        0.081278\n",
      "surprise    0.035444\n",
      "Name: label, dtype: float64\n"
     ]
    }
   ],
   "source": [
    "print(df['label'].value_counts())\n",
    "print('\\n')\n",
    "print(df['label'].value_counts(normalize=True))"
   ]
  },
  {
   "cell_type": "code",
   "execution_count": 5,
   "metadata": {
    "ExecuteTime": {
     "end_time": "2020-12-03T05:06:22.598635Z",
     "start_time": "2020-12-03T05:06:22.592260Z"
    }
   },
   "outputs": [
    {
     "name": "stdout",
     "output_type": "stream",
     "text": [
      "(16000, 2)\n",
      "joy         0.335125\n",
      "sadness     0.291625\n",
      "anger       0.134937\n",
      "fear        0.121063\n",
      "love        0.081500\n",
      "surprise    0.035750\n",
      "Name: label, dtype: float64\n"
     ]
    }
   ],
   "source": [
    "print(train.shape)\n",
    "print(train['label'].value_counts(normalize=True))"
   ]
  },
  {
   "cell_type": "code",
   "execution_count": 6,
   "metadata": {
    "ExecuteTime": {
     "end_time": "2020-12-03T05:06:22.605404Z",
     "start_time": "2020-12-03T05:06:22.600526Z"
    }
   },
   "outputs": [
    {
     "name": "stdout",
     "output_type": "stream",
     "text": [
      "(2000, 2)\n",
      "joy         0.3475\n",
      "sadness     0.2905\n",
      "anger       0.1375\n",
      "fear        0.1120\n",
      "love        0.0795\n",
      "surprise    0.0330\n",
      "Name: label, dtype: float64\n"
     ]
    }
   ],
   "source": [
    "print(test.shape)\n",
    "print(test['label'].value_counts(normalize=True))"
   ]
  },
  {
   "cell_type": "markdown",
   "metadata": {},
   "source": [
    "# Preprocess text"
   ]
  },
  {
   "cell_type": "code",
   "execution_count": 7,
   "metadata": {
    "ExecuteTime": {
     "end_time": "2020-12-03T05:06:22.612282Z",
     "start_time": "2020-12-03T05:06:22.606945Z"
    }
   },
   "outputs": [],
   "source": [
    "def clean_data(data):\n",
    "    \n",
    "    stop_words = set(stopwords.words('english'))\n",
    "    text_clean = []\n",
    "    new_data = pd.DataFrame({'sentence': data.sentence, 'label': data.label})\n",
    "    \n",
    "    new_data['sentence'] = data.apply(lambda r: ' '.join(w.lower() for w in r['sentence'].split() \n",
    "                                                         if (w.lower() not in stop_words) & \n",
    "                                                         (w.isalpha())),axis=1)\n",
    "    new_data['sentence'] = new_data[new_data['sentence'] != '']\n",
    "    new_data = new_data.dropna()\n",
    "\n",
    "    return new_data"
   ]
  },
  {
   "cell_type": "code",
   "execution_count": 8,
   "metadata": {
    "ExecuteTime": {
     "end_time": "2020-12-03T05:06:22.617812Z",
     "start_time": "2020-12-03T05:06:22.614764Z"
    }
   },
   "outputs": [],
   "source": [
    "def extract_features(train_set, test_set, ngram):\n",
    "\n",
    "    tfidf=TfidfVectorizer(use_idf=True, max_df=0.95, ngram_range=ngram)\n",
    "    tfidf.fit_transform(train_set['sentence'].values)\n",
    "\n",
    "    train_tfidf=tfidf.transform(train_set['sentence'].values)\n",
    "    test_tfidf=tfidf.transform(test_set['sentence'].values)\n",
    "\n",
    "    return train_tfidf,test_tfidf,tfidf"
   ]
  },
  {
   "cell_type": "code",
   "execution_count": 9,
   "metadata": {
    "ExecuteTime": {
     "end_time": "2020-12-03T05:06:24.062330Z",
     "start_time": "2020-12-03T05:06:22.619258Z"
    }
   },
   "outputs": [],
   "source": [
    "df_clean = clean_data(df)\n",
    "df_clean.to_csv('data_clean.csv')\n",
    "\n",
    "training_df, testing_df = train_test_split(df_clean[['sentence', 'label']].dropna(), \n",
    "                                               test_size = 0.2, random_state = 2020)\n",
    "\n",
    "X_train, X_test, tfidf_vectorizer = extract_features(training_df, testing_df, (1,2))\n",
    "y_train = training_df['label'].values\n",
    "y_test = testing_df['label'].values\n",
    "\n",
    "with open('tfidf_vectorizer.pkl', 'wb') as f:\n",
    "    pickle.dump(tfidf_vectorizer, f)"
   ]
  },
  {
   "cell_type": "code",
   "execution_count": 10,
   "metadata": {
    "ExecuteTime": {
     "end_time": "2020-12-03T05:06:24.074201Z",
     "start_time": "2020-12-03T05:06:24.063821Z"
    }
   },
   "outputs": [
    {
     "data": {
      "text/plain": [
       "61.62005555555555"
      ]
     },
     "execution_count": 10,
     "metadata": {},
     "output_type": "execute_result"
    }
   ],
   "source": [
    "np.mean([len(i) for i in df_clean.sentence])"
   ]
  },
  {
   "cell_type": "markdown",
   "metadata": {},
   "source": [
    "# Fit models"
   ]
  },
  {
   "cell_type": "markdown",
   "metadata": {},
   "source": [
    "## Logistic regression"
   ]
  },
  {
   "cell_type": "code",
   "execution_count": 32,
   "metadata": {
    "ExecuteTime": {
     "end_time": "2020-12-03T05:17:22.267549Z",
     "start_time": "2020-12-03T05:17:22.264678Z"
    }
   },
   "outputs": [],
   "source": [
    "def predict_evaluate(model, test_tfidf, test_y):\n",
    "    prediction = model.predict(test_tfidf)\n",
    "    print(classification_report(test_y, prediction))\n",
    "    return prediction"
   ]
  },
  {
   "cell_type": "code",
   "execution_count": 11,
   "metadata": {
    "ExecuteTime": {
     "end_time": "2020-11-23T23:29:48.177607Z",
     "start_time": "2020-11-23T23:29:39.951272Z"
    }
   },
   "outputs": [
    {
     "name": "stderr",
     "output_type": "stream",
     "text": [
      "[Parallel(n_jobs=1)]: Using backend SequentialBackend with 1 concurrent workers.\n",
      "[Parallel(n_jobs=1)]: Done   1 out of   1 | elapsed:    1.4s finished\n",
      "[Parallel(n_jobs=1)]: Using backend SequentialBackend with 1 concurrent workers.\n",
      "[Parallel(n_jobs=1)]: Done   1 out of   1 | elapsed:    1.3s finished\n",
      "[Parallel(n_jobs=1)]: Using backend SequentialBackend with 1 concurrent workers.\n",
      "[Parallel(n_jobs=1)]: Done   1 out of   1 | elapsed:    1.5s finished\n",
      "[Parallel(n_jobs=1)]: Using backend SequentialBackend with 1 concurrent workers.\n",
      "[Parallel(n_jobs=1)]: Done   1 out of   1 | elapsed:    1.3s finished\n",
      "[Parallel(n_jobs=1)]: Using backend SequentialBackend with 1 concurrent workers.\n",
      "[Parallel(n_jobs=1)]: Done   1 out of   1 | elapsed:    1.6s finished\n",
      "[Parallel(n_jobs=1)]: Using backend SequentialBackend with 1 concurrent workers.\n"
     ]
    },
    {
     "name": "stdout",
     "output_type": "stream",
     "text": [
      "              precision    recall  f1-score   support\n",
      "\n",
      "       anger       0.93      0.88      0.90       509\n",
      "        fear       0.89      0.84      0.87       438\n",
      "         joy       0.90      0.94      0.92      1220\n",
      "        love       0.83      0.72      0.77       280\n",
      "     sadness       0.92      0.96      0.94      1025\n",
      "    surprise       0.82      0.66      0.73       128\n",
      "\n",
      "    accuracy                           0.90      3600\n",
      "   macro avg       0.88      0.83      0.85      3600\n",
      "weighted avg       0.90      0.90      0.90      3600\n",
      "\n"
     ]
    },
    {
     "name": "stderr",
     "output_type": "stream",
     "text": [
      "[Parallel(n_jobs=1)]: Done   1 out of   1 | elapsed:    0.9s finished\n"
     ]
    }
   ],
   "source": [
    "lr1 = LogisticRegression(random_state=2020, C=15, penalty='l2', max_iter=1000, verbose=1)\n",
    "lr1_classifier = OneVsRestClassifier(lr1)\n",
    "model_lr1 = lr1_classifier.fit(X_train,y_train)\n",
    "\n",
    "lr1_pred = predict_evaluate(model_lr1, X_test, y_test)\n",
    "# print('Accuracy:', accuracy_score(Y_test, Y_pred))\n",
    "# print('F1-score:', f1_score(Y_test, Y_pred, average='micro'))"
   ]
  },
  {
   "cell_type": "code",
   "execution_count": 12,
   "metadata": {
    "ExecuteTime": {
     "end_time": "2020-11-23T23:29:53.961659Z",
     "start_time": "2020-11-23T23:29:48.179874Z"
    }
   },
   "outputs": [
    {
     "name": "stderr",
     "output_type": "stream",
     "text": [
      "[Parallel(n_jobs=1)]: Using backend SequentialBackend with 1 concurrent workers.\n",
      "[Parallel(n_jobs=1)]: Done   1 out of   1 | elapsed:    1.1s finished\n",
      "[Parallel(n_jobs=1)]: Using backend SequentialBackend with 1 concurrent workers.\n",
      "[Parallel(n_jobs=1)]: Done   1 out of   1 | elapsed:    1.0s finished\n",
      "[Parallel(n_jobs=1)]: Using backend SequentialBackend with 1 concurrent workers.\n",
      "[Parallel(n_jobs=1)]: Done   1 out of   1 | elapsed:    1.1s finished\n",
      "[Parallel(n_jobs=1)]: Using backend SequentialBackend with 1 concurrent workers.\n",
      "[Parallel(n_jobs=1)]: Done   1 out of   1 | elapsed:    0.7s finished\n",
      "[Parallel(n_jobs=1)]: Using backend SequentialBackend with 1 concurrent workers.\n",
      "[Parallel(n_jobs=1)]: Done   1 out of   1 | elapsed:    1.2s finished\n",
      "[Parallel(n_jobs=1)]: Using backend SequentialBackend with 1 concurrent workers.\n"
     ]
    },
    {
     "name": "stdout",
     "output_type": "stream",
     "text": [
      "              precision    recall  f1-score   support\n",
      "\n",
      "       anger       0.92      0.85      0.88       509\n",
      "        fear       0.88      0.82      0.85       438\n",
      "         joy       0.88      0.95      0.91      1220\n",
      "        love       0.85      0.69      0.77       280\n",
      "     sadness       0.91      0.97      0.94      1025\n",
      "    surprise       0.85      0.62      0.71       128\n",
      "\n",
      "    accuracy                           0.89      3600\n",
      "   macro avg       0.88      0.82      0.84      3600\n",
      "weighted avg       0.89      0.89      0.89      3600\n",
      "\n"
     ]
    },
    {
     "name": "stderr",
     "output_type": "stream",
     "text": [
      "[Parallel(n_jobs=1)]: Done   1 out of   1 | elapsed:    0.7s finished\n"
     ]
    }
   ],
   "source": [
    "lr2 = LogisticRegression(random_state=2020, C=5, penalty='l2', max_iter=1000, verbose=1)\n",
    "lr2_classifier = OneVsRestClassifier(lr2)\n",
    "model_lr2 = lr2_classifier.fit(X_train,y_train)\n",
    "\n",
    "lr2_pred = predict_evaluate(model_lr2, X_test, y_test)"
   ]
  },
  {
   "cell_type": "code",
   "execution_count": 13,
   "metadata": {
    "ExecuteTime": {
     "end_time": "2020-11-23T23:30:02.505411Z",
     "start_time": "2020-11-23T23:29:53.964149Z"
    }
   },
   "outputs": [
    {
     "name": "stderr",
     "output_type": "stream",
     "text": [
      "[Parallel(n_jobs=1)]: Using backend SequentialBackend with 1 concurrent workers.\n",
      "[Parallel(n_jobs=1)]: Done   1 out of   1 | elapsed:    1.3s finished\n",
      "[Parallel(n_jobs=1)]: Using backend SequentialBackend with 1 concurrent workers.\n",
      "[Parallel(n_jobs=1)]: Done   1 out of   1 | elapsed:    1.3s finished\n",
      "[Parallel(n_jobs=1)]: Using backend SequentialBackend with 1 concurrent workers.\n",
      "[Parallel(n_jobs=1)]: Done   1 out of   1 | elapsed:    2.0s finished\n",
      "[Parallel(n_jobs=1)]: Using backend SequentialBackend with 1 concurrent workers.\n",
      "[Parallel(n_jobs=1)]: Done   1 out of   1 | elapsed:    1.3s finished\n",
      "[Parallel(n_jobs=1)]: Using backend SequentialBackend with 1 concurrent workers.\n",
      "[Parallel(n_jobs=1)]: Done   1 out of   1 | elapsed:    1.5s finished\n",
      "[Parallel(n_jobs=1)]: Using backend SequentialBackend with 1 concurrent workers.\n"
     ]
    },
    {
     "name": "stdout",
     "output_type": "stream",
     "text": [
      "              precision    recall  f1-score   support\n",
      "\n",
      "       anger       0.93      0.89      0.91       509\n",
      "        fear       0.89      0.84      0.87       438\n",
      "         joy       0.90      0.94      0.92      1220\n",
      "        love       0.83      0.73      0.78       280\n",
      "     sadness       0.92      0.96      0.94      1025\n",
      "    surprise       0.81      0.67      0.74       128\n",
      "\n",
      "    accuracy                           0.90      3600\n",
      "   macro avg       0.88      0.84      0.86      3600\n",
      "weighted avg       0.90      0.90      0.90      3600\n",
      "\n"
     ]
    },
    {
     "name": "stderr",
     "output_type": "stream",
     "text": [
      "[Parallel(n_jobs=1)]: Done   1 out of   1 | elapsed:    0.9s finished\n"
     ]
    }
   ],
   "source": [
    "lr3 = LogisticRegression(random_state=2020, C=30, penalty='l2', max_iter=1000, verbose=1)\n",
    "lr3_classifier = OneVsRestClassifier(lr3)\n",
    "model_lr3 = lr3_classifier.fit(X_train,y_train)\n",
    "\n",
    "lr3_pred = predict_evaluate(model_lr3, X_test, y_test)"
   ]
  },
  {
   "cell_type": "code",
   "execution_count": 14,
   "metadata": {
    "ExecuteTime": {
     "end_time": "2020-11-23T23:30:02.514881Z",
     "start_time": "2020-11-23T23:30:02.507732Z"
    }
   },
   "outputs": [],
   "source": [
    "filepath = \"logistic_best.pkl\"\n",
    "with open(filepath, 'wb') as file:\n",
    "    pickle.dump(model_lr3, file)"
   ]
  },
  {
   "cell_type": "markdown",
   "metadata": {},
   "source": [
    "## SVM"
   ]
  },
  {
   "cell_type": "code",
   "execution_count": 33,
   "metadata": {
    "ExecuteTime": {
     "end_time": "2020-12-03T05:17:24.928237Z",
     "start_time": "2020-12-03T05:17:24.539813Z"
    }
   },
   "outputs": [
    {
     "name": "stdout",
     "output_type": "stream",
     "text": [
      "              precision    recall  f1-score   support\n",
      "\n",
      "       anger       0.92      0.89      0.90       509\n",
      "        fear       0.89      0.85      0.87       438\n",
      "         joy       0.91      0.94      0.93      1220\n",
      "        love       0.83      0.76      0.79       280\n",
      "     sadness       0.92      0.96      0.94      1025\n",
      "    surprise       0.83      0.70      0.76       128\n",
      "\n",
      "    accuracy                           0.91      3600\n",
      "   macro avg       0.88      0.85      0.87      3600\n",
      "weighted avg       0.90      0.91      0.90      3600\n",
      "\n"
     ]
    }
   ],
   "source": [
    "svm1 = LinearSVC(random_state=2020, C=1, loss='squared_hinge', max_iter=1000)\n",
    "model_svm1 = svm1.fit(X_train,y_train)\n",
    "\n",
    "svm1_pred = predict_evaluate(model_svm1, X_test, y_test)"
   ]
  },
  {
   "cell_type": "code",
   "execution_count": 34,
   "metadata": {
    "ExecuteTime": {
     "end_time": "2020-12-03T05:17:30.046936Z",
     "start_time": "2020-12-03T05:17:24.930143Z"
    }
   },
   "outputs": [
    {
     "name": "stdout",
     "output_type": "stream",
     "text": [
      "              precision    recall  f1-score   support\n",
      "\n",
      "       anger       0.92      0.89      0.90       509\n",
      "        fear       0.90      0.85      0.87       438\n",
      "         joy       0.92      0.94      0.93      1220\n",
      "        love       0.83      0.78      0.80       280\n",
      "     sadness       0.92      0.96      0.94      1025\n",
      "    surprise       0.78      0.73      0.76       128\n",
      "\n",
      "    accuracy                           0.91      3600\n",
      "   macro avg       0.88      0.86      0.87      3600\n",
      "weighted avg       0.91      0.91      0.91      3600\n",
      "\n"
     ]
    }
   ],
   "source": [
    "svm2 = LinearSVC(random_state=2020, C=50, loss='squared_hinge', max_iter=1000)\n",
    "model_svm2 = svm2.fit(X_train,y_train)\n",
    "\n",
    "svm2_pred = predict_evaluate(model_svm2, X_test, y_test)"
   ]
  },
  {
   "cell_type": "code",
   "execution_count": 35,
   "metadata": {
    "ExecuteTime": {
     "end_time": "2020-12-03T05:17:32.706800Z",
     "start_time": "2020-12-03T05:17:30.048860Z"
    }
   },
   "outputs": [
    {
     "name": "stdout",
     "output_type": "stream",
     "text": [
      "              precision    recall  f1-score   support\n",
      "\n",
      "       anger       0.92      0.89      0.90       509\n",
      "        fear       0.90      0.84      0.87       438\n",
      "         joy       0.92      0.94      0.93      1220\n",
      "        love       0.82      0.78      0.80       280\n",
      "     sadness       0.92      0.96      0.94      1025\n",
      "    surprise       0.80      0.73      0.76       128\n",
      "\n",
      "    accuracy                           0.91      3600\n",
      "   macro avg       0.88      0.86      0.87      3600\n",
      "weighted avg       0.90      0.91      0.90      3600\n",
      "\n"
     ]
    }
   ],
   "source": [
    "svm3 = LinearSVC(random_state=2020, C=50, loss='hinge', max_iter=1000)\n",
    "model_svm3 = svm3.fit(X_train,y_train)\n",
    "\n",
    "svm3_pred = predict_evaluate(model_svm3, X_test, y_test)"
   ]
  },
  {
   "cell_type": "code",
   "execution_count": 36,
   "metadata": {
    "ExecuteTime": {
     "end_time": "2020-12-03T05:17:33.321854Z",
     "start_time": "2020-12-03T05:17:32.709572Z"
    }
   },
   "outputs": [
    {
     "name": "stdout",
     "output_type": "stream",
     "text": [
      "              precision    recall  f1-score   support\n",
      "\n",
      "       anger       0.92      0.90      0.91       509\n",
      "        fear       0.88      0.85      0.86       438\n",
      "         joy       0.92      0.94      0.93      1220\n",
      "        love       0.83      0.75      0.79       280\n",
      "     sadness       0.92      0.96      0.94      1025\n",
      "    surprise       0.84      0.65      0.73       128\n",
      "\n",
      "    accuracy                           0.91      3600\n",
      "   macro avg       0.88      0.84      0.86      3600\n",
      "weighted avg       0.90      0.91      0.90      3600\n",
      "\n"
     ]
    }
   ],
   "source": [
    "svm4 = LinearSVC(random_state=2020, C=1, loss='hinge', max_iter=1000)\n",
    "model_svm4 = svm4.fit(X_train,y_train)\n",
    "\n",
    "svm4_pred = predict_evaluate(model_svm4, X_test, y_test)"
   ]
  },
  {
   "cell_type": "code",
   "execution_count": 37,
   "metadata": {
    "ExecuteTime": {
     "end_time": "2020-12-03T05:17:33.331985Z",
     "start_time": "2020-12-03T05:17:33.324578Z"
    }
   },
   "outputs": [],
   "source": [
    "filepath = \"svm_best.pkl\"\n",
    "with open(filepath, 'wb') as file:\n",
    "    pickle.dump(model_svm2, file)"
   ]
  },
  {
   "cell_type": "code",
   "execution_count": 93,
   "metadata": {
    "ExecuteTime": {
     "end_time": "2020-12-03T05:54:07.784835Z",
     "start_time": "2020-12-03T05:54:07.508266Z"
    }
   },
   "outputs": [
    {
     "data": {
      "image/png": "[encoded data removed]",
      "text/plain": [
       "<Figure size 576x504 with 2 Axes>"
      ]
     },
     "metadata": {},
     "output_type": "display_data"
    }
   ],
   "source": [
    "# confusion matrix\n",
    "plt.figure(figsize=(8,7))\n",
    "df_cm = pd.DataFrame(confusion_matrix(y_test, svm4_pred, \n",
    "                                      labels=[\"anger\", \"fear\",\"sadness\", \"love\", \"joy\",\"surprise\"]),\n",
    "                    [\"anger\", \"fear\",\"sadness\", \"love\", \"joy\",\"surprise\"], \n",
    "                    [\"anger\", \"fear\",\"sadness\", \"love\", \"joy\",\"surprise\"])\n",
    "sns.set(font_scale=1.4)#for label size\n",
    "# sns.heatmap(df_cm, annot=True,annot_kws={\"size\": 16}, fmt='g',cmap=\"Blues\")\n",
    "sns.heatmap(df_cm.div(df_cm.sum(axis=1), axis=0), annot=True, \n",
    "            fmt='.1%', cmap='Blues',annot_kws={\"size\": 13})\n",
    "plt.show()"
   ]
  },
  {
   "cell_type": "code",
   "execution_count": 86,
   "metadata": {
    "ExecuteTime": {
     "end_time": "2020-12-03T05:42:30.327132Z",
     "start_time": "2020-12-03T05:42:30.318608Z"
    }
   },
   "outputs": [
    {
     "data": {
      "text/html": [
       "<div>\n",
       "<style scoped>\n",
       "    .dataframe tbody tr th:only-of-type {\n",
       "        vertical-align: middle;\n",
       "    }\n",
       "\n",
       "    .dataframe tbody tr th {\n",
       "        vertical-align: top;\n",
       "    }\n",
       "\n",
       "    .dataframe thead th {\n",
       "        text-align: right;\n",
       "    }\n",
       "</style>\n",
       "<table border=\"1\" class=\"dataframe\">\n",
       "  <thead>\n",
       "    <tr style=\"text-align: right;\">\n",
       "      <th></th>\n",
       "      <th>anger</th>\n",
       "      <th>fear</th>\n",
       "      <th>sadness</th>\n",
       "      <th>love</th>\n",
       "      <th>joy</th>\n",
       "      <th>surprise</th>\n",
       "    </tr>\n",
       "  </thead>\n",
       "  <tbody>\n",
       "    <tr>\n",
       "      <th>anger</th>\n",
       "      <td>457</td>\n",
       "      <td>4</td>\n",
       "      <td>31</td>\n",
       "      <td>3</td>\n",
       "      <td>14</td>\n",
       "      <td>0</td>\n",
       "    </tr>\n",
       "    <tr>\n",
       "      <th>fear</th>\n",
       "      <td>21</td>\n",
       "      <td>374</td>\n",
       "      <td>23</td>\n",
       "      <td>1</td>\n",
       "      <td>13</td>\n",
       "      <td>6</td>\n",
       "    </tr>\n",
       "    <tr>\n",
       "      <th>sadness</th>\n",
       "      <td>13</td>\n",
       "      <td>7</td>\n",
       "      <td>987</td>\n",
       "      <td>2</td>\n",
       "      <td>14</td>\n",
       "      <td>2</td>\n",
       "    </tr>\n",
       "    <tr>\n",
       "      <th>love</th>\n",
       "      <td>3</td>\n",
       "      <td>3</td>\n",
       "      <td>6</td>\n",
       "      <td>211</td>\n",
       "      <td>57</td>\n",
       "      <td>0</td>\n",
       "    </tr>\n",
       "    <tr>\n",
       "      <th>joy</th>\n",
       "      <td>3</td>\n",
       "      <td>2</td>\n",
       "      <td>24</td>\n",
       "      <td>36</td>\n",
       "      <td>1147</td>\n",
       "      <td>8</td>\n",
       "    </tr>\n",
       "    <tr>\n",
       "      <th>surprise</th>\n",
       "      <td>1</td>\n",
       "      <td>37</td>\n",
       "      <td>1</td>\n",
       "      <td>0</td>\n",
       "      <td>6</td>\n",
       "      <td>83</td>\n",
       "    </tr>\n",
       "  </tbody>\n",
       "</table>\n",
       "</div>"
      ],
      "text/plain": [
       "          anger  fear  sadness  love   joy  surprise\n",
       "anger       457     4       31     3    14         0\n",
       "fear         21   374       23     1    13         6\n",
       "sadness      13     7      987     2    14         2\n",
       "love          3     3        6   211    57         0\n",
       "joy           3     2       24    36  1147         8\n",
       "surprise      1    37        1     0     6        83"
      ]
     },
     "execution_count": 86,
     "metadata": {},
     "output_type": "execute_result"
    }
   ],
   "source": [
    "df_cm"
   ]
  },
  {
   "cell_type": "code",
   "execution_count": 123,
   "metadata": {
    "ExecuteTime": {
     "end_time": "2020-12-03T07:13:12.360680Z",
     "start_time": "2020-12-03T07:13:12.353419Z"
    }
   },
   "outputs": [
    {
     "data": {
      "text/html": [
       "<div>\n",
       "<style scoped>\n",
       "    .dataframe tbody tr th:only-of-type {\n",
       "        vertical-align: middle;\n",
       "    }\n",
       "\n",
       "    .dataframe tbody tr th {\n",
       "        vertical-align: top;\n",
       "    }\n",
       "\n",
       "    .dataframe thead th {\n",
       "        text-align: right;\n",
       "    }\n",
       "</style>\n",
       "<table border=\"1\" class=\"dataframe\">\n",
       "  <thead>\n",
       "    <tr style=\"text-align: right;\">\n",
       "      <th></th>\n",
       "      <th>sentence</th>\n",
       "      <th>label</th>\n",
       "    </tr>\n",
       "  </thead>\n",
       "  <tbody>\n",
       "    <tr>\n",
       "      <th>3258</th>\n",
       "      <td>feel like amazing co screenwriter roberto orci...</td>\n",
       "      <td>surprise</td>\n",
       "    </tr>\n",
       "    <tr>\n",
       "      <th>7511</th>\n",
       "      <td>feel urgency introduce readers amazing touchin...</td>\n",
       "      <td>surprise</td>\n",
       "    </tr>\n",
       "    <tr>\n",
       "      <th>7487</th>\n",
       "      <td>im feeling amazing im answering questions new ...</td>\n",
       "      <td>surprise</td>\n",
       "    </tr>\n",
       "    <tr>\n",
       "      <th>5400</th>\n",
       "      <td>chose makes feel amazing</td>\n",
       "      <td>surprise</td>\n",
       "    </tr>\n",
       "    <tr>\n",
       "      <th>4694</th>\n",
       "      <td>could picture homely feel also smell books wou...</td>\n",
       "      <td>surprise</td>\n",
       "    </tr>\n",
       "    <tr>\n",
       "      <th>4376</th>\n",
       "      <td>love sunshine havent much feeling shoulders wa...</td>\n",
       "      <td>surprise</td>\n",
       "    </tr>\n",
       "  </tbody>\n",
       "</table>\n",
       "</div>"
      ],
      "text/plain": [
       "                                               sentence     label\n",
       "3258  feel like amazing co screenwriter roberto orci...  surprise\n",
       "7511  feel urgency introduce readers amazing touchin...  surprise\n",
       "7487  im feeling amazing im answering questions new ...  surprise\n",
       "5400                           chose makes feel amazing  surprise\n",
       "4694  could picture homely feel also smell books wou...  surprise\n",
       "4376  love sunshine havent much feeling shoulders wa...  surprise"
      ]
     },
     "execution_count": 123,
     "metadata": {},
     "output_type": "execute_result"
    }
   ],
   "source": [
    "testing_df[(y_test=='surprise') & (svm4_pred=='joy')]"
   ]
  },
  {
   "cell_type": "code",
   "execution_count": 125,
   "metadata": {
    "ExecuteTime": {
     "end_time": "2020-12-03T07:13:37.137034Z",
     "start_time": "2020-12-03T07:13:37.132577Z"
    }
   },
   "outputs": [
    {
     "data": {
      "text/plain": [
       "['i feel an urgency to introduce readers to the amazing and touching story of anna iya and erik',\n",
       " 'surprise']"
      ]
     },
     "execution_count": 125,
     "metadata": {},
     "output_type": "execute_result"
    }
   ],
   "source": [
    "list(df.loc[7511])"
   ]
  },
  {
   "cell_type": "markdown",
   "metadata": {},
   "source": [
    "## Fasttext"
   ]
  },
  {
   "cell_type": "code",
   "execution_count": 22,
   "metadata": {
    "ExecuteTime": {
     "end_time": "2020-11-23T23:31:09.310954Z",
     "start_time": "2020-11-23T23:31:08.969956Z"
    }
   },
   "outputs": [],
   "source": [
    "# Format the data\n",
    "train_fasttext = training_df.apply(lambda t: '__label__' + str(t['label']) + \n",
    "                                   ' ' + str(t['sentence']), axis=1)\n",
    "test_fasttext = testing_df.apply(lambda t: '__label__' + str(t['label']) + \n",
    "                                 ' ' + str(t['sentence']), axis=1)\n",
    "train_fasttext.to_csv('train_fasttext.txt',index=False, header=False)\n",
    "test_fasttext.to_csv('test_fasttext.txt',index=False, header=False)"
   ]
  },
  {
   "cell_type": "code",
   "execution_count": 75,
   "metadata": {
    "ExecuteTime": {
     "end_time": "2020-11-25T17:18:12.117548Z",
     "start_time": "2020-11-25T17:18:12.115570Z"
    },
    "scrolled": true
   },
   "outputs": [],
   "source": [
    "model_ft1 = fasttext.train_supervised('train_fasttext.txt', loss='softmax',\n",
    "                                      lr=0.1, ws=5, wordNgrams=2, epoch=100)\n",
    "ft1_pred = model_ft1.test('test_fasttext.txt')\n",
    "\n",
    "print(\"precision: \", ft1_pred[1])\n",
    "print(\"recall: \", ft1_pred[2])\n",
    "print(\"F-1 score: \", 2*ft1_pred[1]*ft1_pred[2]/(ft1_pred[1]+ft1_pred[2]))"
   ]
  },
  {
   "cell_type": "code",
   "execution_count": 76,
   "metadata": {
    "ExecuteTime": {
     "end_time": "2020-11-25T17:18:15.931533Z",
     "start_time": "2020-11-25T17:18:15.929436Z"
    }
   },
   "outputs": [],
   "source": [
    "model_ft12 = fasttext.train_supervised('train_fasttext.txt', loss='softmax',\n",
    "                                      lr=0.2, ws=10, wordNgrams=2, epoch=100)\n",
    "ft2_pred = model_ft12.test('test_fasttext.txt')\n",
    "\n",
    "print(\"precision: \", ft2_pred[1])\n",
    "print(\"recall: \", ft2_pred[2])\n",
    "print(\"F-1 score: \", 2*ft2_pred[1]*ft2_pred[2]/(ft2_pred[1]+ft2_pred[2]))"
   ]
  },
  {
   "cell_type": "code",
   "execution_count": 77,
   "metadata": {
    "ExecuteTime": {
     "end_time": "2020-11-25T17:18:17.952996Z",
     "start_time": "2020-11-25T17:18:17.950457Z"
    }
   },
   "outputs": [],
   "source": [
    "model_ft13 = fasttext.train_supervised('train_fasttext.txt', loss='softmax',\n",
    "                                      lr=0.2, ws=10, wordNgrams=2, epoch=300)\n",
    "ft3_pred = model_ft13.test('test_fasttext.txt')\n",
    "\n",
    "print(\"precision: \", ft3_pred[1])\n",
    "print(\"recall: \", ft3_pred[2])\n",
    "print(\"F-1 score: \", 2*ft3_pred[1]*ft3_pred[2]/(ft3_pred[1]+ft3_pred[2]))"
   ]
  },
  {
   "cell_type": "code",
   "execution_count": 78,
   "metadata": {
    "ExecuteTime": {
     "end_time": "2020-11-25T17:18:19.795739Z",
     "start_time": "2020-11-25T17:18:19.793206Z"
    }
   },
   "outputs": [],
   "source": [
    "model_ft14 = fasttext.train_supervised('train_fasttext.txt', loss='softmax',\n",
    "                                      lr=0.2, ws=15, wordNgrams=2, epoch=100)\n",
    "ft4_pred = model_ft14.test('test_fasttext.txt')\n",
    "ft4_pred\n",
    "print(\"precision: \", ft4_pred[1])\n",
    "print(\"recall: \", ft4_pred[2])\n",
    "print(\"F-1 score: \", 2*ft4_pred[1]*ft4_pred[2]/(ft4_pred[1]+ft4_pred[2]))"
   ]
  },
  {
   "cell_type": "markdown",
   "metadata": {},
   "source": [
    "## LSTM"
   ]
  },
  {
   "cell_type": "code",
   "execution_count": 27,
   "metadata": {
    "ExecuteTime": {
     "end_time": "2020-11-23T23:31:36.506521Z",
     "start_time": "2020-11-23T23:31:36.498360Z"
    }
   },
   "outputs": [],
   "source": [
    "def load_data(file_path): \n",
    "    \n",
    "    df = pd.read_csv(file_path)\n",
    "    return df\n",
    "\n",
    "\n",
    "\n",
    "REPLACE_BY_SPACE_RE = re.compile('[/(){}\\[\\]\\|@,;]')\n",
    "BAD_SYMBOLS_RE = re.compile('[^0-9a-z #+_]')\n",
    "STOPWORDS = set(stopwords.words('english'))\n",
    "\n",
    "def clean_text(text):    \n",
    "    \n",
    "    text = text.lower() # lowercase text\n",
    "    text = REPLACE_BY_SPACE_RE.sub(' ', text) \n",
    "    text = BAD_SYMBOLS_RE.sub('', text) \n",
    "    text = text.replace('x', '')\n",
    "    text = ' '.join(word for word in text.split() if word not in STOPWORDS) # remove stopwords from text\n",
    "    return text\n",
    "\n",
    "def process_texts(file_dir: str, is_train: bool) -> None:    \n",
    "    all_texts = []    \n",
    "    for file_name in os.listdir(file_dir):        \n",
    "        if is_train and file_name.startswith('cv9'):            \n",
    "            continue        \n",
    "        if not is_train and not file_name.startswith('cv9'):            \n",
    "            continue        \n",
    "        file_path = os.path.join(file_dir, file_name)        \n",
    "        cleaned_text = clean_text(load_text(file_path))\n",
    "        all_texts.append(cleaned_text)    \n",
    "    return all_texts"
   ]
  },
  {
   "cell_type": "code",
   "execution_count": 28,
   "metadata": {
    "ExecuteTime": {
     "end_time": "2020-11-23T23:31:42.390200Z",
     "start_time": "2020-11-23T23:31:42.384972Z"
    }
   },
   "outputs": [],
   "source": [
    "def build_lstm_classifier(X_train, Y_train, X_test, Y_test,\n",
    "                          MAX_NB_WORDS, MAX_SEQUENCE_LENGTH, EMBEDDING_DIM):    \n",
    "    model = Sequential()\n",
    "    model.add(Embedding(MAX_NB_WORDS, EMBEDDING_DIM, input_length=X.shape[1]))\n",
    "    model.add(SpatialDropout1D(0.2))\n",
    "    model.add(LSTM(100, dropout=0.2, recurrent_dropout=0.2))\n",
    "    model.add(Dense(13, activation='softmax'))\n",
    "    model.compile(loss='categorical_crossentropy', optimizer='adam', metrics=['accuracy'])\n",
    "    \n",
    "    return model\n",
    "   "
   ]
  },
  {
   "cell_type": "code",
   "execution_count": 29,
   "metadata": {
    "ExecuteTime": {
     "end_time": "2020-11-23T23:31:43.194048Z",
     "start_time": "2020-11-23T23:31:43.062260Z"
    }
   },
   "outputs": [
    {
     "name": "stdout",
     "output_type": "stream",
     "text": [
      "0                                    didnt feel humiliated\n",
      "1        go feeling hopeless damned hopeful around some...\n",
      "2                im grabbing minute post feel greedy wrong\n",
      "3        ever feeling nostalgic fireplace know still pr...\n",
      "4                                          feeling grouchy\n",
      "                               ...                        \n",
      "17995    keep feeling like someone unkind wrong think g...\n",
      "17996    im feeling little cranky negative doctors appo...\n",
      "17997    feel useful people gives great feeling achieve...\n",
      "17998    im feeling comfortable derby feel though start...\n",
      "17999    feel weird meet w people tet like dont talk fa...\n",
      "Name: sentence, Length: 18000, dtype: object\n"
     ]
    }
   ],
   "source": [
    "file_path = 'data_clean.csv'\n",
    "df = load_data(file_path) \n",
    "\n",
    "df['sentence'] = df['sentence'].apply(clean_text).str.replace('\\d+', '')\n",
    "\n",
    "print(df['sentence']) "
   ]
  },
  {
   "cell_type": "code",
   "execution_count": 32,
   "metadata": {
    "ExecuteTime": {
     "end_time": "2020-11-23T23:32:20.677707Z",
     "start_time": "2020-11-23T23:32:20.422613Z"
    }
   },
   "outputs": [
    {
     "name": "stdout",
     "output_type": "stream",
     "text": [
      "Found 15996 unique tokens.\n"
     ]
    }
   ],
   "source": [
    "# The maximum number of words to be used. (most frequent)\n",
    "MAX_NB_WORDS = 50000\n",
    "# Max number of words in each complaint.\n",
    "MAX_SEQUENCE_LENGTH = 250\n",
    "# This is fixed.\n",
    "EMBEDDING_DIM = 100\n",
    "\n",
    "tokenizer = Tokenizer(num_words=MAX_NB_WORDS, filters='!\"#$%&()*+,-./:;<=>?@[\\]^_`{|}~', lower=True)\n",
    "tokenizer.fit_on_texts(df['sentence'].values)\n",
    "word_index = tokenizer.word_index\n",
    "print('Found %s unique tokens.' % len(word_index))"
   ]
  },
  {
   "cell_type": "code",
   "execution_count": 35,
   "metadata": {
    "ExecuteTime": {
     "end_time": "2020-11-23T23:32:40.521494Z",
     "start_time": "2020-11-23T23:32:40.165413Z"
    }
   },
   "outputs": [
    {
     "name": "stdout",
     "output_type": "stream",
     "text": [
      "Shape of data tensor: (18000, 250)\n"
     ]
    }
   ],
   "source": [
    "X = tokenizer.texts_to_sequences(df['sentence'].values)\n",
    "X = pad_sequences(X, maxlen=MAX_SEQUENCE_LENGTH)\n",
    "print('Shape of data tensor:', X.shape)"
   ]
  },
  {
   "cell_type": "code",
   "execution_count": 36,
   "metadata": {
    "ExecuteTime": {
     "end_time": "2020-11-23T23:32:41.601894Z",
     "start_time": "2020-11-23T23:32:41.596166Z"
    }
   },
   "outputs": [
    {
     "name": "stdout",
     "output_type": "stream",
     "text": [
      "Shape of label tensor: (18000, 6)\n"
     ]
    }
   ],
   "source": [
    "Y = pd.get_dummies(df['label']).values\n",
    "print('Shape of label tensor:', Y.shape)"
   ]
  },
  {
   "cell_type": "code",
   "execution_count": 37,
   "metadata": {
    "ExecuteTime": {
     "end_time": "2020-11-23T23:32:42.533976Z",
     "start_time": "2020-11-23T23:32:42.524465Z"
    }
   },
   "outputs": [
    {
     "name": "stdout",
     "output_type": "stream",
     "text": [
      "(14400, 250) (14400, 6)\n",
      "(3600, 250) (3600, 6)\n"
     ]
    }
   ],
   "source": [
    "X_train, X_test, Y_train, Y_test = train_test_split(X,Y, test_size = 0.2, random_state = 2020)\n",
    "print(X_train.shape,Y_train.shape)\n",
    "print(X_test.shape,Y_test.shape)"
   ]
  },
  {
   "cell_type": "code",
   "execution_count": 50,
   "metadata": {
    "ExecuteTime": {
     "end_time": "2020-11-24T01:43:46.529556Z",
     "start_time": "2020-11-24T01:43:46.523778Z"
    }
   },
   "outputs": [],
   "source": [
    "def build_lstm_classifier(MAX_NB_WORDS, EMBEDDING_DIM, INPUT_LENGTH=X.shape[1], \n",
    "                          NEURONS=100, LR=0.01):\n",
    "    model = Sequential()\n",
    "    model.add(Embedding(MAX_NB_WORDS, EMBEDDING_DIM, input_length=INPUT_LENGTH))\n",
    "    model.add(SpatialDropout1D(0.2))\n",
    "    model.add(LSTM(NEURONS, dropout=0.2, recurrent_dropout=0.2))\n",
    "    model.add(Dense(6, activation='softmax'))\n",
    "    model.compile(loss='categorical_crossentropy', \n",
    "                  optimizer=tf.keras.optimizers.Adam(learning_rate=LR), \n",
    "                  metrics=['accuracy'])\n",
    "    print(model.summary())\n",
    "    return model"
   ]
  },
  {
   "cell_type": "code",
   "execution_count": 53,
   "metadata": {
    "ExecuteTime": {
     "end_time": "2020-11-24T02:19:48.815157Z",
     "start_time": "2020-11-24T02:03:06.018612Z"
    }
   },
   "outputs": [
    {
     "name": "stdout",
     "output_type": "stream",
     "text": [
      "Model: \"sequential_6\"\n",
      "_________________________________________________________________\n",
      "Layer (type)                 Output Shape              Param #   \n",
      "=================================================================\n",
      "embedding_6 (Embedding)      (None, 250, 100)          5000000   \n",
      "_________________________________________________________________\n",
      "spatial_dropout1d_6 (Spatial (None, 250, 100)          0         \n",
      "_________________________________________________________________\n",
      "lstm_6 (LSTM)                (None, 100)               80400     \n",
      "_________________________________________________________________\n",
      "dense_6 (Dense)              (None, 6)                 606       \n",
      "=================================================================\n",
      "Total params: 5,081,006\n",
      "Trainable params: 5,081,006\n",
      "Non-trainable params: 0\n",
      "_________________________________________________________________\n",
      "None\n",
      "Train on 12960 samples, validate on 1440 samples\n",
      "Epoch 1/5\n",
      "12960/12960 [==============================] - 198s 15ms/step - loss: 1.4015 - accuracy: 0.4650 - val_loss: 0.8104 - val_accuracy: 0.7410\n",
      "Epoch 2/5\n",
      "12960/12960 [==============================] - 205s 16ms/step - loss: 0.5490 - accuracy: 0.8319 - val_loss: 0.3528 - val_accuracy: 0.8861\n",
      "Epoch 3/5\n",
      "12960/12960 [==============================] - 199s 15ms/step - loss: 0.1911 - accuracy: 0.9398 - val_loss: 0.2984 - val_accuracy: 0.9007\n",
      "Epoch 4/5\n",
      "12960/12960 [==============================] - 199s 15ms/step - loss: 0.1042 - accuracy: 0.9674 - val_loss: 0.3108 - val_accuracy: 0.9014\n",
      "Epoch 5/5\n",
      "12960/12960 [==============================] - 200s 15ms/step - loss: 0.0717 - accuracy: 0.9766 - val_loss: 0.3468 - val_accuracy: 0.9014\n"
     ]
    }
   ],
   "source": [
    "EPOCHS = 5\n",
    "BACH_SIZE = 64\n",
    "\n",
    "model1 = build_lstm_classifier(MAX_NB_WORDS, EMBEDDING_DIM, INPUT_LENGTH=X.shape[1], \n",
    "                               NEURONS=100, LR=0.001)\n",
    "\n",
    "history1 = model1.fit(X_train, Y_train, \n",
    "                    epochs=EPOCHS, batch_size=BACH_SIZE,\n",
    "                    validation_split=0.1,\n",
    "                    callbacks=[EarlyStopping(monitor='val_loss', patience=3, min_delta=0.0001)])"
   ]
  },
  {
   "cell_type": "code",
   "execution_count": 54,
   "metadata": {
    "ExecuteTime": {
     "end_time": "2020-11-24T02:20:12.440125Z",
     "start_time": "2020-11-24T02:19:48.818813Z"
    }
   },
   "outputs": [
    {
     "name": "stdout",
     "output_type": "stream",
     "text": [
      "3600/3600 [==============================] - 24s 7ms/step\n",
      "Test set\n",
      "  Loss: 0.320\n",
      "  Accuracy: 0.901\n"
     ]
    }
   ],
   "source": [
    "accr1 = model1.evaluate(X_test,Y_test)\n",
    "print('Test set\\n  Loss: {:0.3f}\\n  Accuracy: {:0.3f}'.format(accr1[0],accr1[1]))"
   ]
  },
  {
   "cell_type": "code",
   "execution_count": 55,
   "metadata": {
    "ExecuteTime": {
     "end_time": "2020-11-24T02:45:55.127121Z",
     "start_time": "2020-11-24T02:21:37.463842Z"
    }
   },
   "outputs": [
    {
     "name": "stdout",
     "output_type": "stream",
     "text": [
      "Model: \"sequential_7\"\n",
      "_________________________________________________________________\n",
      "Layer (type)                 Output Shape              Param #   \n",
      "=================================================================\n",
      "embedding_7 (Embedding)      (None, 250, 100)          5000000   \n",
      "_________________________________________________________________\n",
      "spatial_dropout1d_7 (Spatial (None, 250, 100)          0         \n",
      "_________________________________________________________________\n",
      "lstm_7 (LSTM)                (None, 200)               240800    \n",
      "_________________________________________________________________\n",
      "dense_7 (Dense)              (None, 6)                 1206      \n",
      "=================================================================\n",
      "Total params: 5,242,006\n",
      "Trainable params: 5,242,006\n",
      "Non-trainable params: 0\n",
      "_________________________________________________________________\n",
      "None\n",
      "Train on 12960 samples, validate on 1440 samples\n",
      "Epoch 1/5\n",
      "12960/12960 [==============================] - 283s 22ms/step - loss: 1.3548 - accuracy: 0.4838 - val_loss: 0.7915 - val_accuracy: 0.7521\n",
      "Epoch 2/5\n",
      "12960/12960 [==============================] - 294s 23ms/step - loss: 0.4256 - accuracy: 0.8667 - val_loss: 0.2923 - val_accuracy: 0.8993\n",
      "Epoch 3/5\n",
      "12960/12960 [==============================] - 294s 23ms/step - loss: 0.1560 - accuracy: 0.9494 - val_loss: 0.2595 - val_accuracy: 0.9104\n",
      "Epoch 4/5\n",
      "12960/12960 [==============================] - 298s 23ms/step - loss: 0.0968 - accuracy: 0.9689 - val_loss: 0.2516 - val_accuracy: 0.9083\n",
      "Epoch 5/5\n",
      "12960/12960 [==============================] - 287s 22ms/step - loss: 0.0613 - accuracy: 0.9792 - val_loss: 0.2721 - val_accuracy: 0.9167\n"
     ]
    }
   ],
   "source": [
    "EPOCHS = 5\n",
    "BACH_SIZE = 64\n",
    "\n",
    "model2 = build_lstm_classifier(MAX_NB_WORDS, EMBEDDING_DIM, INPUT_LENGTH=X.shape[1], \n",
    "                               NEURONS=200, LR=0.001)\n",
    "\n",
    "history2 = model2.fit(X_train, Y_train, \n",
    "                    epochs=EPOCHS, batch_size=BACH_SIZE,\n",
    "                    validation_split=0.1,\n",
    "                    callbacks=[EarlyStopping(monitor='val_loss', patience=3, min_delta=0.0001)])"
   ]
  },
  {
   "cell_type": "code",
   "execution_count": 56,
   "metadata": {
    "ExecuteTime": {
     "end_time": "2020-11-24T02:46:33.690337Z",
     "start_time": "2020-11-24T02:45:59.518236Z"
    }
   },
   "outputs": [
    {
     "name": "stdout",
     "output_type": "stream",
     "text": [
      "3600/3600 [==============================] - 34s 9ms/step\n",
      "Test set\n",
      "  Loss: 0.270\n",
      "  Accuracy: 0.914\n"
     ]
    }
   ],
   "source": [
    "accr2 = model2.evaluate(X_test,Y_test)\n",
    "print('Test set\\n  Loss: {:0.3f}\\n  Accuracy: {:0.3f}'.format(accr2[0],accr2[1]))"
   ]
  },
  {
   "cell_type": "code",
   "execution_count": 58,
   "metadata": {
    "ExecuteTime": {
     "end_time": "2020-11-24T05:21:44.018037Z",
     "start_time": "2020-11-24T04:58:28.845381Z"
    }
   },
   "outputs": [
    {
     "name": "stdout",
     "output_type": "stream",
     "text": [
      "Model: \"sequential_9\"\n",
      "_________________________________________________________________\n",
      "Layer (type)                 Output Shape              Param #   \n",
      "=================================================================\n",
      "embedding_9 (Embedding)      (None, 250, 100)          5000000   \n",
      "_________________________________________________________________\n",
      "spatial_dropout1d_9 (Spatial (None, 250, 100)          0         \n",
      "_________________________________________________________________\n",
      "lstm_9 (LSTM)                (None, 200)               240800    \n",
      "_________________________________________________________________\n",
      "dense_9 (Dense)              (None, 6)                 1206      \n",
      "=================================================================\n",
      "Total params: 5,242,006\n",
      "Trainable params: 5,242,006\n",
      "Non-trainable params: 0\n",
      "_________________________________________________________________\n",
      "None\n",
      "Train on 12960 samples, validate on 1440 samples\n",
      "Epoch 1/5\n",
      "12960/12960 [==============================] - 281s 22ms/step - loss: 1.5566 - accuracy: 0.3782 - val_loss: 1.3793 - val_accuracy: 0.4993\n",
      "Epoch 2/5\n",
      "12960/12960 [==============================] - 278s 21ms/step - loss: 0.8823 - accuracy: 0.7012 - val_loss: 0.5865 - val_accuracy: 0.8188\n",
      "Epoch 3/5\n",
      "12960/12960 [==============================] - 281s 22ms/step - loss: 0.3724 - accuracy: 0.8866 - val_loss: 0.4020 - val_accuracy: 0.8764\n",
      "Epoch 4/5\n",
      "12960/12960 [==============================] - 278s 21ms/step - loss: 0.2071 - accuracy: 0.9373 - val_loss: 0.3357 - val_accuracy: 0.9000\n",
      "Epoch 5/5\n",
      "12960/12960 [==============================] - 275s 21ms/step - loss: 0.1316 - accuracy: 0.9599 - val_loss: 0.3496 - val_accuracy: 0.9007\n"
     ]
    }
   ],
   "source": [
    "EPOCHS = 5\n",
    "BACH_SIZE = 64\n",
    "\n",
    "model3 = build_lstm_classifier(MAX_NB_WORDS, EMBEDDING_DIM, INPUT_LENGTH=X.shape[1], \n",
    "                               NEURONS=200, LR=0.0005)\n",
    "\n",
    "history3 = model3.fit(X_train, Y_train, \n",
    "                    epochs=EPOCHS, batch_size=BACH_SIZE,\n",
    "                    validation_split=0.1,\n",
    "                    callbacks=[EarlyStopping(monitor='val_loss', patience=3, min_delta=0.0001)])"
   ]
  },
  {
   "cell_type": "code",
   "execution_count": 59,
   "metadata": {
    "ExecuteTime": {
     "end_time": "2020-11-24T05:22:17.831546Z",
     "start_time": "2020-11-24T05:21:44.021148Z"
    }
   },
   "outputs": [
    {
     "name": "stdout",
     "output_type": "stream",
     "text": [
      "3600/3600 [==============================] - 34s 9ms/step\n",
      "Test set\n",
      "  Loss: 0.345\n",
      "  Accuracy: 0.891\n"
     ]
    }
   ],
   "source": [
    "accr3 = model3.evaluate(X_test,Y_test)\n",
    "print('Test set\\n  Loss: {:0.3f}\\n  Accuracy: {:0.3f}'.format(accr3[0],accr3[1]))"
   ]
  },
  {
   "cell_type": "code",
   "execution_count": null,
   "metadata": {},
   "outputs": [],
   "source": []
  }
 ],
 "metadata": {
  "kernelspec": {
   "display_name": "Python 3",
   "language": "python",
   "name": "python3"
  },
  "language_info": {
   "codemirror_mode": {
    "name": "ipython",
    "version": 3
   },
   "file_extension": ".py",
   "mimetype": "text/x-python",
   "name": "python",
   "nbconvert_exporter": "python",
   "pygments_lexer": "ipython3",
   "version": "3.7.5"
  },
  "toc": {
   "base_numbering": 1,
   "nav_menu": {},
   "number_sections": true,
   "sideBar": true,
   "skip_h1_title": false,
   "title_cell": "Table of Contents",
   "title_sidebar": "Contents",
   "toc_cell": false,
   "toc_position": {},
   "toc_section_display": true,
   "toc_window_display": false
  }
 },
 "nbformat": 4,
 "nbformat_minor": 2
}
